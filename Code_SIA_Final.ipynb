{
 "cells": [
  {
   "cell_type": "markdown",
   "metadata": {},
   "source": [
    "# 0. Preparation\n",
    "\n",
    "Prior to getting started it is vital to install and import all the required libraries for the project."
   ]
  },
  {
   "cell_type": "code",
   "execution_count": 1,
   "metadata": {},
   "outputs": [],
   "source": [
    "#import packages\n",
    "import numpy as np\n",
    "import pandas as pd\n",
    "import yfinance as yf\n",
    "import pandas_datareader as pdr\n",
    "import statistics as stats\n",
    "import datetime as dt\n",
    "import statsmodels.api as sm\n",
    "import matplotlib.pyplot as plt"
   ]
  },
  {
   "cell_type": "markdown",
   "metadata": {},
   "source": [
    "# 1. Input\n",
    "\n",
    "The first step is to ask the user of the \"Stock Investing Advisor\" to enter the desired stock ticker.\n",
    "<br>**For example:** 'AAPL' for Apple Inc. or 'MSFT' for Microsoft Corporation <br>\n",
    "\n",
    "Use the Yahoo! Finace market data downloader and the Ticker module in order to access the ticker data of the chosen stock.\n",
    "\n",
    "If the user enters an invalid stock ticker display an error message and ask the user to enter a valid stock ticker."
   ]
  },
  {
   "cell_type": "code",
   "execution_count": 2,
   "metadata": {},
   "outputs": [
    {
     "name": "stdout",
     "output_type": "stream",
     "text": [
      "Enter Stock Ticker: AAPL\n"
     ]
    }
   ],
   "source": [
    "#identify stock\n",
    "while True:\n",
    "    try:\n",
    "        stock_input = input(\"Enter Stock Ticker: \")\n",
    "        stock = yf.Ticker(stock_input)\n",
    "        ticker = stock.info['symbol']\n",
    "    except KeyError:\n",
    "        print(\"Error - Please enter a valid stock ticker\")\n",
    "        continue\n",
    "    else:\n",
    "        break"
   ]
  },
  {
   "cell_type": "markdown",
   "metadata": {},
   "source": [
    "Now inform the user about the company name according to the chosen stock ticker and indicate if the 'Stock Investing Advisor\" is appropriate for the chosen stock.<br>\n",
    "\n",
    "(The DCF method only is appropiate for business valuations. But not for the valuation of banks and financial istitutions, as financial institutions are highly levered and they do not re-invest debt in the business and instead use it to create products.)"
   ]
  },
  {
   "cell_type": "code",
   "execution_count": 3,
   "metadata": {},
   "outputs": [
    {
     "name": "stdout",
     "output_type": "stream",
     "text": [
      "-------------------------------------------------------------------------------- \n",
      " You have chosen \"Apple Inc.\" for the valuation!\n",
      "-------------------------------------------------------------------------------- \n",
      " Our 'Stock Investing Advisor' is appropriate for the chosen stock!\n",
      "-------------------------------------------------------------------------------- \n",
      "\n",
      "\n"
     ]
    }
   ],
   "source": [
    "def info_check(stock):\n",
    "    \"\"\"\n",
    "    checks if the chosen stock is valid and appropriate for the firm valuation with the DCF method\n",
    "    \n",
    "    Parameters\n",
    "    ----------\n",
    "    stock : TYPE: yfinance.ticker.Ticker\n",
    "            DESCRIPTION: chosen stock, that should be checked\n",
    "    -------\n",
    "    \"\"\"\n",
    "    try:\n",
    "        ticker = stock.info['symbol']\n",
    "        name = stock.info['shortName']\n",
    "        print('-' * 80,'\\n','You have chosen \"{}\" for the valuation!'.format(name))\n",
    "    except KeyError:\n",
    "        print('-' * 80,'\\n',\"Please input a valid stock ticker\")\n",
    "    try:\n",
    "        stock.balance_sheet.loc['Inventory'].iloc[1]\n",
    "        stock.cashflow.loc['Capital Expenditures'].iloc[1]\n",
    "        print('-' * 80,'\\n',\"Our 'Stock Investing Advisor' is appropriate for the chosen stock!\")\n",
    "        print('-' * 80, '\\n\\n')\n",
    "    except KeyError:\n",
    "        print('-' * 80, '\\n',\"Our 'Stock Investing Advisor' not appropriate for Banks and Financial Institutions!\")\n",
    "        print('-' * 80, '\\n\\n')\n",
    "info_check(stock)"
   ]
  },
  {
   "cell_type": "markdown",
   "metadata": {},
   "source": [
    "# 2. Descriptive Statistics & Share Price Development\n",
    "\n",
    "Provide some descriptive statistics such as the mean, standard deviation, variance, minimum and maximum of the stock price and stock trading volume during the last year."
   ]
  },
  {
   "cell_type": "code",
   "execution_count": 4,
   "metadata": {},
   "outputs": [
    {
     "name": "stdout",
     "output_type": "stream",
     "text": [
      "[*********************100%***********************]  1 of 1 completed\n"
     ]
    },
    {
     "data": {
      "text/html": [
       "<div>\n",
       "<style scoped>\n",
       "    .dataframe tbody tr th:only-of-type {\n",
       "        vertical-align: middle;\n",
       "    }\n",
       "\n",
       "    .dataframe tbody tr th {\n",
       "        vertical-align: top;\n",
       "    }\n",
       "\n",
       "    .dataframe thead th {\n",
       "        text-align: right;\n",
       "    }\n",
       "</style>\n",
       "<table border=\"1\" class=\"dataframe\">\n",
       "  <thead>\n",
       "    <tr style=\"text-align: right;\">\n",
       "      <th></th>\n",
       "      <th>Open</th>\n",
       "      <th>High</th>\n",
       "      <th>Low</th>\n",
       "      <th>Close</th>\n",
       "      <th>Adj Close</th>\n",
       "      <th>Volume</th>\n",
       "    </tr>\n",
       "    <tr>\n",
       "      <th>Date</th>\n",
       "      <th></th>\n",
       "      <th></th>\n",
       "      <th></th>\n",
       "      <th></th>\n",
       "      <th></th>\n",
       "      <th></th>\n",
       "    </tr>\n",
       "  </thead>\n",
       "  <tbody>\n",
       "    <tr>\n",
       "      <th>2020-05-29</th>\n",
       "      <td>79.812500</td>\n",
       "      <td>80.287498</td>\n",
       "      <td>79.117500</td>\n",
       "      <td>79.485001</td>\n",
       "      <td>78.953018</td>\n",
       "      <td>153532400</td>\n",
       "    </tr>\n",
       "    <tr>\n",
       "      <th>2020-06-01</th>\n",
       "      <td>79.437500</td>\n",
       "      <td>80.587502</td>\n",
       "      <td>79.302498</td>\n",
       "      <td>80.462502</td>\n",
       "      <td>79.923965</td>\n",
       "      <td>80791200</td>\n",
       "    </tr>\n",
       "    <tr>\n",
       "      <th>2020-06-02</th>\n",
       "      <td>80.187500</td>\n",
       "      <td>80.860001</td>\n",
       "      <td>79.732498</td>\n",
       "      <td>80.834999</td>\n",
       "      <td>80.293968</td>\n",
       "      <td>87642800</td>\n",
       "    </tr>\n",
       "    <tr>\n",
       "      <th>2020-06-03</th>\n",
       "      <td>81.165001</td>\n",
       "      <td>81.550003</td>\n",
       "      <td>80.574997</td>\n",
       "      <td>81.279999</td>\n",
       "      <td>80.735992</td>\n",
       "      <td>104491200</td>\n",
       "    </tr>\n",
       "    <tr>\n",
       "      <th>2020-06-04</th>\n",
       "      <td>81.097504</td>\n",
       "      <td>81.404999</td>\n",
       "      <td>80.195000</td>\n",
       "      <td>80.580002</td>\n",
       "      <td>80.040680</td>\n",
       "      <td>87560400</td>\n",
       "    </tr>\n",
       "    <tr>\n",
       "      <th>...</th>\n",
       "      <td>...</td>\n",
       "      <td>...</td>\n",
       "      <td>...</td>\n",
       "      <td>...</td>\n",
       "      <td>...</td>\n",
       "      <td>...</td>\n",
       "    </tr>\n",
       "    <tr>\n",
       "      <th>2021-05-24</th>\n",
       "      <td>126.010002</td>\n",
       "      <td>127.940002</td>\n",
       "      <td>125.940002</td>\n",
       "      <td>127.099998</td>\n",
       "      <td>127.099998</td>\n",
       "      <td>63092900</td>\n",
       "    </tr>\n",
       "    <tr>\n",
       "      <th>2021-05-25</th>\n",
       "      <td>127.820000</td>\n",
       "      <td>128.320007</td>\n",
       "      <td>126.320000</td>\n",
       "      <td>126.900002</td>\n",
       "      <td>126.900002</td>\n",
       "      <td>72009500</td>\n",
       "    </tr>\n",
       "    <tr>\n",
       "      <th>2021-05-26</th>\n",
       "      <td>126.959999</td>\n",
       "      <td>127.389999</td>\n",
       "      <td>126.419998</td>\n",
       "      <td>126.849998</td>\n",
       "      <td>126.849998</td>\n",
       "      <td>56575900</td>\n",
       "    </tr>\n",
       "    <tr>\n",
       "      <th>2021-05-27</th>\n",
       "      <td>126.440002</td>\n",
       "      <td>127.639999</td>\n",
       "      <td>125.080002</td>\n",
       "      <td>125.279999</td>\n",
       "      <td>125.279999</td>\n",
       "      <td>94625600</td>\n",
       "    </tr>\n",
       "    <tr>\n",
       "      <th>2021-05-28</th>\n",
       "      <td>125.570000</td>\n",
       "      <td>125.800003</td>\n",
       "      <td>124.550003</td>\n",
       "      <td>124.610001</td>\n",
       "      <td>124.610001</td>\n",
       "      <td>71232700</td>\n",
       "    </tr>\n",
       "  </tbody>\n",
       "</table>\n",
       "<p>253 rows × 6 columns</p>\n",
       "</div>"
      ],
      "text/plain": [
       "                  Open        High         Low       Close   Adj Close  \\\n",
       "Date                                                                     \n",
       "2020-05-29   79.812500   80.287498   79.117500   79.485001   78.953018   \n",
       "2020-06-01   79.437500   80.587502   79.302498   80.462502   79.923965   \n",
       "2020-06-02   80.187500   80.860001   79.732498   80.834999   80.293968   \n",
       "2020-06-03   81.165001   81.550003   80.574997   81.279999   80.735992   \n",
       "2020-06-04   81.097504   81.404999   80.195000   80.580002   80.040680   \n",
       "...                ...         ...         ...         ...         ...   \n",
       "2021-05-24  126.010002  127.940002  125.940002  127.099998  127.099998   \n",
       "2021-05-25  127.820000  128.320007  126.320000  126.900002  126.900002   \n",
       "2021-05-26  126.959999  127.389999  126.419998  126.849998  126.849998   \n",
       "2021-05-27  126.440002  127.639999  125.080002  125.279999  125.279999   \n",
       "2021-05-28  125.570000  125.800003  124.550003  124.610001  124.610001   \n",
       "\n",
       "               Volume  \n",
       "Date                   \n",
       "2020-05-29  153532400  \n",
       "2020-06-01   80791200  \n",
       "2020-06-02   87642800  \n",
       "2020-06-03  104491200  \n",
       "2020-06-04   87560400  \n",
       "...               ...  \n",
       "2021-05-24   63092900  \n",
       "2021-05-25   72009500  \n",
       "2021-05-26   56575900  \n",
       "2021-05-27   94625600  \n",
       "2021-05-28   71232700  \n",
       "\n",
       "[253 rows x 6 columns]"
      ]
     },
     "execution_count": 4,
     "metadata": {},
     "output_type": "execute_result"
    }
   ],
   "source": [
    "#set name and ticker of chosen stock\n",
    "ticker = stock.info['symbol']\n",
    "name = stock.info['shortName']\n",
    "#define time range \n",
    "end = dt.date.today()\n",
    "start = end - dt.timedelta(days=365)\n",
    "#download the stock price data\n",
    "stock_prices = yf.download(ticker, start, end)\n",
    "#show the data\n",
    "stock_prices"
   ]
  },
  {
   "cell_type": "code",
   "execution_count": 5,
   "metadata": {},
   "outputs": [
    {
     "name": "stdout",
     "output_type": "stream",
     "text": [
      "--------------------------------------------------------------------------------\n",
      "Descriptive Statistics:\n",
      "Apple Inc. Share Price and Volume between 2020-05-30 and 2021-05-30\n",
      "--------------------------------------------------------------------------------\n",
      "                       mean          var          std        max       min\n",
      "Open             117.860603      223.609      14.9536      143.6   79.4375\n",
      "High             119.286097      224.259      14.9753     145.09   80.2875\n",
      "Low              116.215642      215.089      14.6659     141.37   79.1175\n",
      "Close            117.772302      218.329       14.776     143.16    79.485\n",
      "Adj Close        117.356622      221.595      14.8861    142.704    78.953\n",
      "Volume     126633502.371542  2.83363e+15  5.32319e+07  374336800  46691300\n",
      "--------------------------------------------------------------------------------\n",
      "\n",
      "\n",
      "\n"
     ]
    }
   ],
   "source": [
    "#summary statistics\n",
    "def summary_stats(data):\n",
    "    \"\"\"\n",
    "    Summary stats: mean, variance, standard deviation, maximum and minimum.\n",
    "    Prints descriptive table of the data\n",
    "    \n",
    "    Parameters\n",
    "    ----------\n",
    "    data :  TYPE: pd.DataFrame\n",
    "            DESCRIPTION: dataframe for which descriptives will be computed\n",
    "    -------\n",
    "    \"\"\"\n",
    "    # generate storage for the stats as an empty dictionary\n",
    "    descriptives = {}\n",
    "    # loop over columns\n",
    "    for col in data.columns:\n",
    "        # fill in the dictionary with descriptive values\n",
    "        descriptives[col] = [format(data[col].mean(),'f'), # mean\n",
    "                                   data[col].var(),               # variance\n",
    "                                   data[col].std(),                # st.dev.\n",
    "                                   data[col].max(),                # maximum\n",
    "                                   data[col].min()]      # minimum\n",
    "    # convert the dictionary to dataframe for a nicer output and name rows\n",
    "    # Transpose for having the stats as columns\n",
    "    descriptives = pd.DataFrame(descriptives,\n",
    "                                   index=['mean', 'var', 'std', 'max', 'min']).transpose()\n",
    "    # print the descriptives\n",
    "    print('-' * 80,'Descriptive Statistics:\\n{} Share Price and Volume between {} and {}'.format(name, start, end), '-' * 80, round(descriptives, 2), '-' * 80, '\\n\\n', sep='\\n')\n",
    "summary_stats(stock_prices)"
   ]
  },
  {
   "cell_type": "markdown",
   "metadata": {},
   "source": [
    "Visualizes the adjusted closing price development over the last year."
   ]
  },
  {
   "cell_type": "code",
   "execution_count": 6,
   "metadata": {},
   "outputs": [
    {
     "data": {
      "image/png": "[encoded data removed]",
      "text/plain": [
       "<Figure size 972x648 with 1 Axes>"
      ]
     },
     "metadata": {
      "needs_background": "light"
     },
     "output_type": "display_data"
    }
   ],
   "source": [
    "#visualization of stock price development\n",
    "plt.figure(figsize = (13.5,9))\n",
    "stock_prices['Adj Close'].plot(linewidth=2.0, color = 'g')\n",
    "plt.title('Adj. Close of {} Share Price between 2020-05-31 and today'.format(name))\n",
    "plt.ylabel('Adj Close')\n",
    "plt.show()"
   ]
  },
  {
   "cell_type": "markdown",
   "metadata": {},
   "source": [
    "# 3. Assumptions\n",
    "\n",
    "Make some assumptions that are essential for the excecution of the valuation process."
   ]
  },
  {
   "cell_type": "code",
   "execution_count": 7,
   "metadata": {},
   "outputs": [
    {
     "name": "stdout",
     "output_type": "stream",
     "text": [
      "Assumptions\n",
      "Perpetual rate: 0.03 \n",
      "Riskree rate: 0.016 \n",
      "Projection horizon: [1, 2, 3, 4, 5]\n"
     ]
    }
   ],
   "source": [
    "#assumptions\n",
    "perpetual_rate = 0.03\n",
    "riskfree_rate = 0.016\n",
    "\n",
    "#projection horizon\n",
    "years = [1, 2, 3, 4, 5]\n",
    "\n",
    "#present assumptions\n",
    "print('Assumptions\\nPerpetual rate: {} \\nRiskree rate: {} \\nProjection horizon: {}'.format(perpetual_rate, riskfree_rate, years))"
   ]
  },
  {
   "cell_type": "markdown",
   "metadata": {},
   "source": [
    "# 4. Historical Data & Free Cashflows\n",
    "Collect the historical data for all parameters and calculate the free cashflows of the past 3 years.<br>\n",
    "\n",
    "**FCFF Formula:** <br>\n",
    "\n",
    "> FCFF = EBIT - Taxes + D&A Expense - CapEx - Δ Net WC\n",
    "\n",
    "**FCFF Parameters:**\n",
    "- FCFF = Free Cash Flow to Firm\n",
    "- EBIT = Earnings before Interest and Taxes\n",
    "- Taxes = Cash Taxes\n",
    "- D&A Expense = Depreciation and Amortization expense\n",
    "- CapEx = Capital Expenditures\n",
    "- Δ Net WC = Changes in Net Working Capital"
   ]
  },
  {
   "cell_type": "code",
   "execution_count": 8,
   "metadata": {},
   "outputs": [
    {
     "name": "stdout",
     "output_type": "stream",
     "text": [
      "Historical free cashflows (past 3 years):\n",
      " [79437000000.0, 69880000000.0, 80965000000.0]\n"
     ]
    }
   ],
   "source": [
    "#get historical data\n",
    "free_cashflows_list = []\n",
    "\n",
    "for y in range(0,3):\n",
    "        #EBIT, D&A, CapEx, tax\n",
    "    ebit = stock.financials.loc['Ebit'].iloc[y]\n",
    "    tax_expense = stock.financials.loc['Income Tax Expense'].iloc[y]\n",
    "    depreciation_amortization = stock.cashflow.loc['Depreciation'].iloc[y]\n",
    "    capex = stock.cashflow.loc['Capital Expenditures'].iloc[y]\n",
    "\n",
    "        #change in net working capital\n",
    "    operating_current_assets = stock.balance_sheet.loc['Net Receivables'].iloc[y] + stock.balance_sheet.loc['Inventory'].iloc[y]\n",
    "    operating_current_liabilities = stock.balance_sheet.loc['Accounts Payable'].iloc[y]\n",
    "    net_working_capital = operating_current_assets - operating_current_liabilities\n",
    "\n",
    "    lastyear_operating_current_assets = stock.balance_sheet.loc['Net Receivables'].iloc[y+1] + stock.balance_sheet.loc['Inventory'].iloc[y+1]\n",
    "    lastyear_operating_current_liabilities = stock.balance_sheet.loc['Accounts Payable'].iloc[y+1]\n",
    "    lastyear_net_working_capital = lastyear_operating_current_assets - lastyear_operating_current_liabilities\n",
    "\n",
    "    change_in_net_working_capital = net_working_capital - lastyear_net_working_capital\n",
    "\n",
    "        #free cash flow\n",
    "    freecashflow = ebit - tax_expense + depreciation_amortization - capex - change_in_net_working_capital\n",
    "    free_cashflows_list.append(freecashflow)\n",
    "\n",
    "#present historical free cashflows of the last three years\n",
    "print('Historical free cashflows (past 3 years):\\n {}'.format(free_cashflows_list))"
   ]
  },
  {
   "cell_type": "markdown",
   "metadata": {},
   "source": [
    "# 5. Cost of Capital (WACC)\n",
    "Calculate the Cost of Capital (WACC), the discount rate for the future free cashflows.<br>\n",
    "\n",
    "**WACC Forumula:**\n",
    "> WACC = (D/D+E) * (1-t)*rd + (E/D+E) * (1-t)*re\n",
    "\n",
    "**WACC Parameters:**\n",
    "- WACC = Cost of Capital\n",
    "- D = Value of Dept\n",
    "- E = Value of Equity\n",
    "- D+E = Value of Firm\n",
    "- (D/D+E) = Dept Share\n",
    "- (E/D+E) = Equity Share\n",
    "- rd = Posttax Cost of Dept\n",
    "- re = Cost of Equity\n",
    "- t = Tax Rate"
   ]
  },
  {
   "cell_type": "code",
   "execution_count": 9,
   "metadata": {},
   "outputs": [
    {
     "name": "stdout",
     "output_type": "stream",
     "text": [
      "Equity share:\n",
      " 0.20173331522007606 \n",
      "Dept share:\n",
      " 0.7982666847799239\n"
     ]
    }
   ],
   "source": [
    "##Calculate Cost of Capital\n",
    "    \n",
    "#capital structure\n",
    "Equity = stock.balance_sheet.loc['Total Stockholder Equity'].iloc[0] / stock.balance_sheet.loc['Total Assets'].iloc[0]\n",
    "Dept = stock.balance_sheet.loc['Total Liab'].iloc[0] / stock.balance_sheet.loc['Total Assets'].iloc[0]\n",
    "\n",
    "#present equity share and dept share\n",
    "print('Equity share:\\n {} \\nDept share:\\n {}'.format(Equity, Dept))"
   ]
  },
  {
   "cell_type": "code",
   "execution_count": 10,
   "metadata": {},
   "outputs": [
    {
     "name": "stdout",
     "output_type": "stream",
     "text": [
      "Cost of equity:\n",
      " 0.1658614737347287\n"
     ]
    }
   ],
   "source": [
    "#cost of equity\n",
    "    #get market index\n",
    "if stock.info[\"country\"] == \"United States\":\n",
    "    benchmark = \"^GSPC\"\n",
    "elif stock.info[\"country\"] == \"Switzerland\":\n",
    "    benchmark = \"^SSMI\"\n",
    "elif stock.info[\"country\"] == \"Germany\":\n",
    "    benchmark = \"^GDAXI\"\n",
    "elif stock.info[\"country\"] == \"United Kingdom\":\n",
    "    benchmark = \"^FTSE\"\n",
    "elif stock.info[\"country\"] == \"France\":\n",
    "    benchmark = \"^FCHI\"\n",
    "elif stock.info[\"country\"] == \"Italy\":\n",
    "    benchmark = \"FTSEMIB.MI\"\n",
    "elif stock.info[\"country\"] == \"Spain\":\n",
    "    benchmark = \"^IBEX\"\n",
    "elif stock.info[\"country\"] == \"Japan\":\n",
    "    benchmark = \"^N225\"\n",
    "else:\n",
    "    benchmark = \"MWL=F\" #msci world\n",
    "    \n",
    "    #calculate average market return\n",
    "histcl_market_data = pdr.get_data_yahoo(benchmark)[\"Adj Close\"]\n",
    "yrly_market_return = histcl_market_data.resample('Y').ffill().pct_change()\n",
    "yrly_market_return = yrly_market_return.dropna(axis=0) #drop NaN in first row\n",
    "\n",
    "average_market_return = yrly_market_return.mean()\n",
    "\n",
    "#calculate equity cost\n",
    "try:\n",
    "    beta = stock.info['beta']\n",
    "    cost_equity = riskfree_rate + beta * (average_market_return - riskfree_rate)\n",
    "except ValueError:\n",
    "    histcl_stock_data = pdr.get_data_yahoo(stock_input)[\"Adj Close\"]\n",
    "    yrly_stock_return = histcl_market_data.resample('Y').ffill().pct_change()\n",
    "    yrly_stock_return = yrly_stock_return.dropna(axis=0) #drop NaN in first row\n",
    "    cost_equity = yrly_stock_return.mean()\n",
    "\n",
    "cost_equity\n",
    "\n",
    "#present cost of equity\n",
    "print('Cost of equity:\\n {}'.format(cost_equity))"
   ]
  },
  {
   "cell_type": "code",
   "execution_count": 11,
   "metadata": {},
   "outputs": [
    {
     "name": "stdout",
     "output_type": "stream",
     "text": [
      "Cost of dept:\n",
      " 0.031\n"
     ]
    }
   ],
   "source": [
    "#cost of dept\n",
    "histcl_ebit = [stock.financials.loc['Ebit'].iloc[0],\n",
    "               stock.financials.loc['Ebit'].iloc[1],\n",
    "               stock.financials.loc['Ebit'].iloc[2]]\n",
    "avg_ebit = stats.mean(histcl_ebit)\n",
    "histcl_interest_expense = [stock.financials.loc['Interest Expense'].iloc[0],\n",
    "                           stock.financials.loc['Interest Expense'].iloc[1],\n",
    "                           stock.financials.loc['Interest Expense'].iloc[2]]\n",
    "avg_interest_expense = stats.mean(histcl_interest_expense)\n",
    "interest_coverage_ratio = abs(avg_ebit / avg_interest_expense)\n",
    "coverage_ratios = [8.50, 6.50, 5.50, 4.25, 3.00, 2.50, 2.25, 2.00, 1.75, 1.50, 1.25, 0.80, 0.65, 0.20]\n",
    "for c in coverage_ratios:\n",
    "    if interest_coverage_ratio > c:\n",
    "        spread = (10 - c) / 100\n",
    "        break\n",
    "    else:\n",
    "        spread = 0.15\n",
    "cost_dept = riskfree_rate + spread\n",
    "\n",
    "#present cost of dept\n",
    "print('Cost of dept:\\n {}'.format(cost_dept))"
   ]
  },
  {
   "cell_type": "code",
   "execution_count": 12,
   "metadata": {},
   "outputs": [
    {
     "name": "stdout",
     "output_type": "stream",
     "text": [
      "Tax shield:\n",
      " 0.8187363598161879\n"
     ]
    }
   ],
   "source": [
    "#tax shield\n",
    "tax_rate = tax_expense / (ebit - stock.financials.loc['Interest Expense'].iloc[0])\n",
    "tax_shield = 1 - tax_rate\n",
    "tax_shield\n",
    "#present tax shield\n",
    "print('Tax shield:\\n {}'.format(tax_shield))"
   ]
  },
  {
   "cell_type": "code",
   "execution_count": 13,
   "metadata": {},
   "outputs": [
    {
     "name": "stdout",
     "output_type": "stream",
     "text": [
      "WACC:\n",
      " 0.053720453713231184\n"
     ]
    }
   ],
   "source": [
    "#combinded\n",
    "WACC = cost_equity * Equity + cost_dept * Dept * tax_shield\n",
    "\n",
    "#present WACC\n",
    "print('WACC:\\n {}'.format(WACC))"
   ]
  },
  {
   "cell_type": "markdown",
   "metadata": {},
   "source": [
    "# 6. Cashflow Growth Rate & Free Cashflow Projection\n",
    "\n",
    "Calculate the historical cashflow growth rates based on the free cashflows of the past three years and predict free cashflows for the projection horizon (in this case for the next 5 years). Afterwards dicount the future free cashflows with the Cost of Capital (WAAC)."
   ]
  },
  {
   "cell_type": "code",
   "execution_count": 14,
   "metadata": {},
   "outputs": [
    {
     "name": "stdout",
     "output_type": "stream",
     "text": [
      "Historical cashflow growth rates:\n",
      " [0.13676302232398396, -0.13691101093064906]\n"
     ]
    }
   ],
   "source": [
    "#cashflow growth rate\n",
    "histcl_cashflow_growthrates = []\n",
    "\n",
    "cashflow_growthrate_1 = free_cashflows_list[0] / free_cashflows_list[1] - 1\n",
    "cashflow_growthrate_2 = free_cashflows_list[1] / free_cashflows_list[2] - 1\n",
    "\n",
    "histcl_cashflow_growthrates.append(cashflow_growthrate_1)\n",
    "histcl_cashflow_growthrates.append(cashflow_growthrate_2)\n",
    "\n",
    "if histcl_cashflow_growthrates[0] > histcl_cashflow_growthrates[1] and histcl_cashflow_growthrates[1] > 0:\n",
    "    cashflow_growthrate = histcl_cashflow_growthrates[1]\n",
    "elif histcl_cashflow_growthrates[0] <= 0.3:\n",
    "    cashflow_growthrate = histcl_cashflow_growthrates[0]\n",
    "else:\n",
    "    cashflow_growthrate = stats.mean(histcl_cashflow_growthrates)\n",
    "\n",
    "#present historical cashflow growth rates\n",
    "print('Historical cashflow growth rates:\\n {}'.format(histcl_cashflow_growthrates))"
   ]
  },
  {
   "cell_type": "code",
   "execution_count": 15,
   "metadata": {},
   "outputs": [
    {
     "name": "stdout",
     "output_type": "stream",
     "text": [
      "Future free cashflows (next 5 years):\n",
      " [90301044204.35031, 102650887928.74895, 116689733606.1252, 132648574248.27945, 150789994169.44153]\n"
     ]
    }
   ],
   "source": [
    "#predict future cashflows\n",
    "future_freecashflow = []\n",
    "\n",
    "for year in years:\n",
    "    cashflow = free_cashflows_list[0] * (1 + cashflow_growthrate) ** year\n",
    "    if cashflow >= 0: #prevent negative cashflows\n",
    "        future_freecashflow.append(cashflow)\n",
    "    else:\n",
    "        future_freecashflow.append(0)\n",
    "#present futere free cashflows (next 5 years)\n",
    "print('Future free cashflows (next 5 years):\\n {}'.format(future_freecashflow))"
   ]
  },
  {
   "cell_type": "code",
   "execution_count": 16,
   "metadata": {},
   "outputs": [
    {
     "name": "stdout",
     "output_type": "stream",
     "text": [
      "Discounted future free cashflows:\n",
      " [85697344002.51628, 92451058940.86655, 99737026844.57301, 107597193993.82625, 116076812409.76381]\n"
     ]
    }
   ],
   "source": [
    "#discount the future free cashflows\n",
    "discountfactor = []\n",
    "discounted_future_freecashflow = []\n",
    "\n",
    "for year in years:\n",
    "    discountfactor.append((1 + WACC) ** year)\n",
    "\n",
    "#discount the future free cashflows \n",
    "for x in range(0, len(years)):\n",
    "    discounted_future_freecashflow.append(future_freecashflow[x] / discountfactor[x])\n",
    "\n",
    "#present the discounted future free cashflows\n",
    "print('Discounted future free cashflows:\\n {}'.format(discounted_future_freecashflow))"
   ]
  },
  {
   "cell_type": "markdown",
   "metadata": {},
   "source": [
    "# 7. Terminal Value\n",
    "\n",
    "Calculate the terminal value with the Gordon Growth Rate and discount the terminal value with the WACC."
   ]
  },
  {
   "cell_type": "code",
   "execution_count": 17,
   "metadata": {},
   "outputs": [
    {
     "name": "stdout",
     "output_type": "stream",
     "text": [
      "Terminal value:\n",
      " 5177123133150.826\n"
     ]
    }
   ],
   "source": [
    "#determine the gordon growth rate\n",
    "if WACC - perpetual_rate > perpetual_rate:\n",
    "    gordon_growth_rate = WACC - perpetual_rate\n",
    "else:\n",
    "    gordon_growth_rate = perpetual_rate\n",
    "\n",
    "#calculate terminal value and discount the terminal value\n",
    "terminal_value = future_freecashflow[-1] * (1 + perpetual_rate) / (gordon_growth_rate)\n",
    "\n",
    "#present terminal value\n",
    "print('Terminal value:\\n {}'.format(terminal_value))"
   ]
  },
  {
   "cell_type": "code",
   "execution_count": 18,
   "metadata": {},
   "outputs": [
    {
     "name": "stdout",
     "output_type": "stream",
     "text": [
      "Discounted future free cashflows with present terminal value:\n",
      " [85697344002.51628, 92451058940.86655, 99737026844.57301, 107597193993.82625, 116076812409.76381, 1399436636715.7817]\n"
     ]
    }
   ],
   "source": [
    "#discount the terminal value\n",
    "discounted_terminal_value = terminal_value / discountfactor[-1] ** years[-1]\n",
    "\n",
    "#append the discounted future free cashflows list with the discounted terminal value\n",
    "discounted_future_freecashflow.append(discounted_terminal_value)\n",
    "\n",
    "#present the discounted future free cashflows with present terminal value\n",
    "discounted_future_freecashflow\n",
    "\n",
    "print('Discounted future free cashflows with present terminal value:\\n {}'.format(discounted_future_freecashflow))"
   ]
  },
  {
   "cell_type": "markdown",
   "metadata": {},
   "source": [
    "# 8. Implied Value per Share\n",
    "Calcualte the fair value per share.<br>"
   ]
  },
  {
   "cell_type": "code",
   "execution_count": 19,
   "metadata": {},
   "outputs": [
    {
     "name": "stdout",
     "output_type": "stream",
     "text": [
      "Fair value per share:\n",
      " 110.28\n"
     ]
    }
   ],
   "source": [
    "#get instrinsic value\n",
    "enterprise_value = sum(discounted_future_freecashflow)\n",
    "equity_value = enterprise_value + stock.balance_sheet.loc['Cash'].iloc[0] - stock.balance_sheet.loc['Long Term Debt'].iloc[0]\n",
    "\n",
    "#prevent negative equity value\n",
    "if equity_value >= 0:\n",
    "    equity_value = equity_value\n",
    "else:\n",
    "    equity_value = 0.01\n",
    "    \n",
    "#get the amount of outstanding shares\n",
    "shares_outstanding = stock.info['sharesOutstanding']\n",
    "\n",
    "#calculate the value per share\n",
    "fairvalue_per_share = round(equity_value / shares_outstanding, 2)\n",
    "fairvalue_per_share\n",
    "\n",
    "# present the fair value per share\n",
    "print('Fair value per share:\\n {}'.format(fairvalue_per_share))"
   ]
  },
  {
   "cell_type": "markdown",
   "metadata": {},
   "source": [
    "# 9. Current Share Price\n",
    "Collect the current market value of the share as basis for our recommendation."
   ]
  },
  {
   "cell_type": "code",
   "execution_count": 20,
   "metadata": {},
   "outputs": [
    {
     "name": "stdout",
     "output_type": "stream",
     "text": [
      "Current Share Price:\n",
      " 125.28\n"
     ]
    }
   ],
   "source": [
    "#current stock price\n",
    "current_shareprice = stock.info['previousClose']\n",
    "current_shareprice\n",
    "\n",
    "# present the current stock price\n",
    "print('Current Share Price:\\n {}'.format(current_shareprice))"
   ]
  },
  {
   "cell_type": "markdown",
   "metadata": {},
   "source": [
    "# 10. Recommendation\n",
    "\n",
    "Display the recommendation of the \"Stock Investing Advisor\"."
   ]
  },
  {
   "cell_type": "code",
   "execution_count": 21,
   "metadata": {},
   "outputs": [],
   "source": [
    "#Recommendation\n",
    "if fairvalue_per_share > current_shareprice * 1.09:\n",
    "    advice = \"BUY\"\n",
    "elif fairvalue_per_share > current_shareprice:\n",
    "    advice = \"HOLD\"\n",
    "elif fairvalue_per_share > current_shareprice * 0.91:\n",
    "    advice = \"HOLD\"\n",
    "elif fairvalue_per_share < current_shareprice:\n",
    "    advice = \"SELL\"\n",
    "else:\n",
    "    advice = \"HOLD\""
   ]
  },
  {
   "cell_type": "code",
   "execution_count": 22,
   "metadata": {},
   "outputs": [],
   "source": [
    "#Conclusion\n",
    "if fairvalue_per_share > current_shareprice * 1.17:\n",
    "    concl = \"highly undervalued\"\n",
    "elif fairvalue_per_share > current_shareprice * 1.05:\n",
    "    concl = \"slightly undervalued\"\n",
    "elif fairvalue_per_share > current_shareprice:\n",
    "    concl = \"efficient pricing\"\n",
    "elif fairvalue_per_share > current_shareprice * 0.95:\n",
    "    concl = \"efficient pricing\"\n",
    "elif fairvalue_per_share > current_shareprice * 0.86:\n",
    "    concl = \"slightly overvalued\"\n",
    "elif fairvalue_per_share < current_shareprice:\n",
    "    concl = \"highly overvalued\"\n",
    "else:\n",
    "    concl = \"efficient pricing\""
   ]
  },
  {
   "cell_type": "code",
   "execution_count": 23,
   "metadata": {},
   "outputs": [
    {
     "name": "stdout",
     "output_type": "stream",
     "text": [
      "\n",
      "-------------------------------------------------------------------------------- \n",
      "\n",
      "Conclusion: slightly overvalued\n",
      "Recommendation: SELL\n",
      "\n",
      "  -> Fair value of Apple Inc.: 110.28 USD\n",
      "\n",
      "  -> Current Share Price: 125.28 USD\n",
      "\n",
      "-------------------------------------------------------------------------------- \n",
      "\n"
     ]
    }
   ],
   "source": [
    "#final output\n",
    "print(\"\")\n",
    "print('-' * 80,'\\n')\n",
    "print(\"Conclusion: \" + concl)\n",
    "print(\"Recommendation: \" + advice)\n",
    "print(\"\")\n",
    "print(\"  -> Fair value of \" + name + \": \" + str(fairvalue_per_share) + \" \" + str(stock.info[\"currency\"]))\n",
    "print(\"\")\n",
    "print(\"  -> Current Share Price: \" + str(current_shareprice) + \" \" + str(stock.info[\"currency\"]))\n",
    "print(\"\")\n",
    "print('-' * 80,'\\n')"
   ]
  },
  {
   "cell_type": "markdown",
   "metadata": {
    "hide_input": true
   },
   "source": [
    "For a more detailed description of the single code elements please have a look at our [README.md](https://github.com/KRuschmann/Stock_Investing_Advisor/blob/master/README.md)"
   ]
  }
 ],
 "metadata": {
  "kernelspec": {
   "display_name": "Python 3",
   "language": "python",
   "name": "python3"
  },
  "language_info": {
   "codemirror_mode": {
    "name": "ipython",
    "version": 3
   },
   "file_extension": ".py",
   "mimetype": "text/x-python",
   "name": "python",
   "nbconvert_exporter": "python",
   "pygments_lexer": "ipython3",
   "version": "3.8.3"
  }
 },
 "nbformat": 4,
 "nbformat_minor": 4
}
