{
 "cells": [
  {
   "cell_type": "markdown",
   "metadata": {},
   "source": [
    "# 0. Preparation\n",
    "\n",
    "Import the necessary packages for the project."
   ]
  },
  {
   "cell_type": "code",
   "execution_count": 1,
   "metadata": {},
   "outputs": [],
   "source": [
    "#import packages\n",
    "import numpy as np\n",
    "import pandas as pd\n",
    "import yfinance as yf\n",
    "import pandas_datareader as pdr\n",
    "import statistics as stats\n",
    "import datetime as dt\n",
    "import statsmodels.api as sm\n",
    "import matplotlib.pyplot as plt"
   ]
  },
  {
   "cell_type": "markdown",
   "metadata": {},
   "source": [
    "# 1. Input\n",
    "\n",
    "Ask the user of our \"Stock Investing Advisor\" to input the desired stock ticker for the valuation.\n",
    "<br>**For example:** 'AAPL' for Apple Inc. or 'MSFT' for Microsoft Corporation"
   ]
  },
  {
   "cell_type": "code",
   "execution_count": 2,
   "metadata": {},
   "outputs": [
    {
     "name": "stdout",
     "output_type": "stream",
     "text": [
      "Enter Stock Ticker: AAPL\n"
     ]
    }
   ],
   "source": [
    "#identify stock\n",
    "stock_input = input(\"Enter Stock Ticker: \")"
   ]
  },
  {
   "cell_type": "markdown",
   "metadata": {},
   "source": [
    "Use the Yahoo! Finace market data downloader and the Ticker module in order to access the ticker data of the chosen stock."
   ]
  },
  {
   "cell_type": "code",
   "execution_count": 3,
   "metadata": {},
   "outputs": [],
   "source": [
    "stock = yf.Ticker(stock_input)"
   ]
  },
  {
   "cell_type": "markdown",
   "metadata": {},
   "source": [
    "Now check the chosen stock.\n",
    "- **First step:** Ask the user to input a valid stock ticker if an error message appears.\n",
    "<br>Otherwise inform the user about the company name according to the chosen stock ticker. \n",
    "- **Second step:** The DCF method is appropiate for business valuations. But not for the valuation of banks and financial istitutions, as financial institutions are highly levered and they do not re-invest debt in the business and instead use it to create products.<br> Inform the user if the 'Sale of Shares Advisor\" is appropriate for the chosen stock"
   ]
  },
  {
   "cell_type": "code",
   "execution_count": 4,
   "metadata": {},
   "outputs": [
    {
     "name": "stdout",
     "output_type": "stream",
     "text": [
      "You have chosen \"Apple Inc.\" for the valuation!\n",
      "Our 'Sale of Shares Advisor' is appropriate for the chosen stock!\n"
     ]
    }
   ],
   "source": [
    "def check(stock):\n",
    "    \"\"\"\n",
    "    checks if the chosen stock is valid and appropriate for the firm valuation with the DCF method\n",
    "    \n",
    "    Parameters\n",
    "    ----------\n",
    "    stock : TYPE: yfinance.ticker.Ticker\n",
    "            DESCRIPTION: chosen stock, that should be checked\n",
    "    -------\n",
    "    \"\"\"\n",
    "    try:\n",
    "        ticker = stock.info['symbol']\n",
    "        name = stock.info['shortName']\n",
    "        print('You have chosen \"{}\" for the valuation!'.format(name))\n",
    "    except KeyError:\n",
    "        print(\"Please input a valid stock ticker\")\n",
    "    try:\n",
    "        stock.balance_sheet.loc['Inventory'].iloc[1]\n",
    "        print(\"Our 'Sale of Shares Advisor' is appropriate for the chosen stock!\")\n",
    "    except KeyError:\n",
    "        print(\"Our 'Sale of Shares Advisor' is not appropriate for for Banks and Financial Institutions!\")\n",
    "check(stock)"
   ]
  },
  {
   "cell_type": "markdown",
   "metadata": {},
   "source": [
    "# 2. Descriptive Statistics and Share Price Development\n",
    "\n",
    "Present the user of the \"Stock Investing Advisor\" descriptive statistics of the chosen stock and visualize the share price development over the last year."
   ]
  },
  {
   "cell_type": "code",
   "execution_count": 8,
   "metadata": {},
   "outputs": [
    {
     "name": "stdout",
     "output_type": "stream",
     "text": [
      "[*********************100%***********************]  1 of 1 completed\n"
     ]
    },
    {
     "data": {
      "text/html": [
       "<div>\n",
       "<style scoped>\n",
       "    .dataframe tbody tr th:only-of-type {\n",
       "        vertical-align: middle;\n",
       "    }\n",
       "\n",
       "    .dataframe tbody tr th {\n",
       "        vertical-align: top;\n",
       "    }\n",
       "\n",
       "    .dataframe thead th {\n",
       "        text-align: right;\n",
       "    }\n",
       "</style>\n",
       "<table border=\"1\" class=\"dataframe\">\n",
       "  <thead>\n",
       "    <tr style=\"text-align: right;\">\n",
       "      <th></th>\n",
       "      <th>Open</th>\n",
       "      <th>High</th>\n",
       "      <th>Low</th>\n",
       "      <th>Close</th>\n",
       "      <th>Adj Close</th>\n",
       "      <th>Volume</th>\n",
       "    </tr>\n",
       "    <tr>\n",
       "      <th>Date</th>\n",
       "      <th></th>\n",
       "      <th></th>\n",
       "      <th></th>\n",
       "      <th></th>\n",
       "      <th></th>\n",
       "      <th></th>\n",
       "    </tr>\n",
       "  </thead>\n",
       "  <tbody>\n",
       "    <tr>\n",
       "      <th>2020-06-01</th>\n",
       "      <td>79.437500</td>\n",
       "      <td>80.587502</td>\n",
       "      <td>79.302498</td>\n",
       "      <td>80.462502</td>\n",
       "      <td>79.923965</td>\n",
       "      <td>80791200</td>\n",
       "    </tr>\n",
       "    <tr>\n",
       "      <th>2020-06-02</th>\n",
       "      <td>80.187500</td>\n",
       "      <td>80.860001</td>\n",
       "      <td>79.732498</td>\n",
       "      <td>80.834999</td>\n",
       "      <td>80.293968</td>\n",
       "      <td>87642800</td>\n",
       "    </tr>\n",
       "    <tr>\n",
       "      <th>2020-06-03</th>\n",
       "      <td>81.165001</td>\n",
       "      <td>81.550003</td>\n",
       "      <td>80.574997</td>\n",
       "      <td>81.279999</td>\n",
       "      <td>80.735992</td>\n",
       "      <td>104491200</td>\n",
       "    </tr>\n",
       "    <tr>\n",
       "      <th>2020-06-04</th>\n",
       "      <td>81.097504</td>\n",
       "      <td>81.404999</td>\n",
       "      <td>80.195000</td>\n",
       "      <td>80.580002</td>\n",
       "      <td>80.040680</td>\n",
       "      <td>87560400</td>\n",
       "    </tr>\n",
       "    <tr>\n",
       "      <th>2020-06-05</th>\n",
       "      <td>80.837502</td>\n",
       "      <td>82.937500</td>\n",
       "      <td>80.807503</td>\n",
       "      <td>82.875000</td>\n",
       "      <td>82.320328</td>\n",
       "      <td>137250400</td>\n",
       "    </tr>\n",
       "    <tr>\n",
       "      <th>...</th>\n",
       "      <td>...</td>\n",
       "      <td>...</td>\n",
       "      <td>...</td>\n",
       "      <td>...</td>\n",
       "      <td>...</td>\n",
       "      <td>...</td>\n",
       "    </tr>\n",
       "    <tr>\n",
       "      <th>2021-05-20</th>\n",
       "      <td>125.230003</td>\n",
       "      <td>127.720001</td>\n",
       "      <td>125.099998</td>\n",
       "      <td>127.309998</td>\n",
       "      <td>127.309998</td>\n",
       "      <td>76857100</td>\n",
       "    </tr>\n",
       "    <tr>\n",
       "      <th>2021-05-21</th>\n",
       "      <td>127.820000</td>\n",
       "      <td>128.000000</td>\n",
       "      <td>125.209999</td>\n",
       "      <td>125.430000</td>\n",
       "      <td>125.430000</td>\n",
       "      <td>79209300</td>\n",
       "    </tr>\n",
       "    <tr>\n",
       "      <th>2021-05-24</th>\n",
       "      <td>126.010002</td>\n",
       "      <td>127.940002</td>\n",
       "      <td>125.940002</td>\n",
       "      <td>127.099998</td>\n",
       "      <td>127.099998</td>\n",
       "      <td>63092900</td>\n",
       "    </tr>\n",
       "    <tr>\n",
       "      <th>2021-05-25</th>\n",
       "      <td>127.820000</td>\n",
       "      <td>128.320007</td>\n",
       "      <td>126.320000</td>\n",
       "      <td>126.900002</td>\n",
       "      <td>126.900002</td>\n",
       "      <td>72009500</td>\n",
       "    </tr>\n",
       "    <tr>\n",
       "      <th>2021-05-26</th>\n",
       "      <td>126.959999</td>\n",
       "      <td>127.389999</td>\n",
       "      <td>126.419998</td>\n",
       "      <td>126.849998</td>\n",
       "      <td>126.849998</td>\n",
       "      <td>56496100</td>\n",
       "    </tr>\n",
       "  </tbody>\n",
       "</table>\n",
       "<p>250 rows × 6 columns</p>\n",
       "</div>"
      ],
      "text/plain": [
       "                  Open        High         Low       Close   Adj Close  \\\n",
       "Date                                                                     \n",
       "2020-06-01   79.437500   80.587502   79.302498   80.462502   79.923965   \n",
       "2020-06-02   80.187500   80.860001   79.732498   80.834999   80.293968   \n",
       "2020-06-03   81.165001   81.550003   80.574997   81.279999   80.735992   \n",
       "2020-06-04   81.097504   81.404999   80.195000   80.580002   80.040680   \n",
       "2020-06-05   80.837502   82.937500   80.807503   82.875000   82.320328   \n",
       "...                ...         ...         ...         ...         ...   \n",
       "2021-05-20  125.230003  127.720001  125.099998  127.309998  127.309998   \n",
       "2021-05-21  127.820000  128.000000  125.209999  125.430000  125.430000   \n",
       "2021-05-24  126.010002  127.940002  125.940002  127.099998  127.099998   \n",
       "2021-05-25  127.820000  128.320007  126.320000  126.900002  126.900002   \n",
       "2021-05-26  126.959999  127.389999  126.419998  126.849998  126.849998   \n",
       "\n",
       "               Volume  \n",
       "Date                   \n",
       "2020-06-01   80791200  \n",
       "2020-06-02   87642800  \n",
       "2020-06-03  104491200  \n",
       "2020-06-04   87560400  \n",
       "2020-06-05  137250400  \n",
       "...               ...  \n",
       "2021-05-20   76857100  \n",
       "2021-05-21   79209300  \n",
       "2021-05-24   63092900  \n",
       "2021-05-25   72009500  \n",
       "2021-05-26   56496100  \n",
       "\n",
       "[250 rows x 6 columns]"
      ]
     },
     "execution_count": 8,
     "metadata": {},
     "output_type": "execute_result"
    }
   ],
   "source": [
    "#set name and ticker of chosen stock\n",
    "ticker = stock.info['symbol']\n",
    "name = stock.info['shortName']\n",
    "#define time range \n",
    "start = dt.date(2020,5,31)\n",
    "end = dt.date.today()\n",
    "#download the stock price data\n",
    "stock_prices = yf.download(ticker, start, end)\n",
    "#show the data\n",
    "stock_prices"
   ]
  },
  {
   "cell_type": "code",
   "execution_count": 42,
   "metadata": {},
   "outputs": [
    {
     "name": "stdout",
     "output_type": "stream",
     "text": [
      "Descriptive Statistics of Apple Inc. Share Price and Volume between 2020-05-31 and 2021-05-27:\n",
      "--------------------------------------------------------------------------------\n",
      "                       mean          var          std        max       min  \\\n",
      "Open             117.947640      219.947      14.8306      143.6   79.4375   \n",
      "High             119.382620      220.393      14.8456     145.09   80.5875   \n",
      "Low              116.295240      211.552      14.5448     141.37   79.3025   \n",
      "Close            117.868070      214.649      14.6509     143.16   80.4625   \n",
      "Adj Close        117.449530      217.869      14.7604    142.704    79.924   \n",
      "Volume     126875222.400000  2.84841e+15  5.33705e+07  374336800  46691300   \n",
      "\n",
      "           na  unique  obs  \n",
      "Open        0     242  250  \n",
      "High        0     242  250  \n",
      "Low         0     242  250  \n",
      "Close       0     246  250  \n",
      "Adj Close   0     247  250  \n",
      "Volume      0     250  250  \n",
      "--------------------------------------------------------------------------------\n",
      "\n",
      "\n",
      "\n"
     ]
    }
   ],
   "source": [
    "#summary statistics\n",
    "def summary_stats(data):\n",
    "    \"\"\"\n",
    "    Summary stats: mean, variance, standard deviation, maximum and minimum.\n",
    "    Prints descriptive table of the data\n",
    "    \n",
    "    Parameters\n",
    "    ----------\n",
    "    data :  TYPE: pd.DataFrame\n",
    "            DESCRIPTION: dataframe for which descriptives will be computed\n",
    "    -------\n",
    "    \"\"\"\n",
    "    # generate storage for the stats as an empty dictionary\n",
    "    my_descriptives = {}\n",
    "    # loop over columns\n",
    "    for col in data.columns:\n",
    "        # fill in the dictionary with descriptive values\n",
    "        my_descriptives[col] = [format(data[col].mean(),'f'), # mean\n",
    "                                   data[col].var(),               # variance\n",
    "                                   data[col].std(),                # st.dev.\n",
    "                                   data[col].max(),                # maximum\n",
    "                                   data[col].min(),                # minimum\n",
    "                                   sum(data[col].isna()),          # missing\n",
    "                                   len(data[col].unique()),  # unique values\n",
    "                                   data[col].shape[0]]      # number of obs.\n",
    "    # convert the dictionary to dataframe for a nicer output and name rows\n",
    "    # Transpose for having the stats as columns\n",
    "    my_descriptives = pd.DataFrame(my_descriptives,\n",
    "                                   index=['mean', 'var', 'std', 'max', 'min',\n",
    "                                          'na', 'unique', 'obs']).transpose()\n",
    "    # define na, unique and obs as integers such that no decimals get printed\n",
    "    ints = ['na', 'unique', 'obs']\n",
    "    # use the .astype() method of pandas dataframes to change the type\n",
    "    my_descriptives[ints] = my_descriptives[ints].astype(int)\n",
    "    # print the descriptives\n",
    "    print('Descriptive Statistics of {} Share Price and Volume between {} and {}:'.format(name, start, end), '-' * 80, round(my_descriptives, 2), '-' * 80, '\\n\\n', sep='\\n')\n",
    "summary_stats(stock_prices)"
   ]
  },
  {
   "cell_type": "code",
   "execution_count": 40,
   "metadata": {},
   "outputs": [
    {
     "data": {
      "image/png": "[encoded data removed]",
      "text/plain": [
       "<Figure size 972x648 with 1 Axes>"
      ]
     },
     "metadata": {
      "needs_background": "light"
     },
     "output_type": "display_data"
    }
   ],
   "source": [
    "#visualization of stock price development\n",
    "plt.figure(figsize = (13.5,9))\n",
    "stock_prices['Adj Close'].plot(linewidth=2.0, color = 'g')\n",
    "plt.title('Adj. Close of {} Share Price between 2020-05-31 and today'.format(name))\n",
    "plt.ylabel('Adj Close')\n",
    "plt.show()"
   ]
  },
  {
   "cell_type": "markdown",
   "metadata": {},
   "source": [
    "# 3. Assumptions for Intrinsic Firm Valuation with DCF Method"
   ]
  },
  {
   "cell_type": "code",
   "execution_count": 11,
   "metadata": {},
   "outputs": [],
   "source": [
    "#assumptions\n",
    "perpetual_rate = 0.02\n",
    "riskfree_rate = 0.01\n",
    "\n",
    "#projection horizon\n",
    "years = [1, 2, 3, 4, 5]"
   ]
  },
  {
   "cell_type": "markdown",
   "metadata": {},
   "source": [
    "# 4. Intrinsic Firm Valuation with DCF Method\n",
    "\n",
    "### First Step: Historical FCFF Calculation\n",
    "Collect the historical data for all parameters and calculate the FCFF for the last 4 years.<br>\n",
    "\n",
    "**FCFF Forumula:**\n",
    "> $ FCFF = EBIT - Taxes + D&A Expense - CapEx - Δ Net WC $\n",
    "\n",
    "**FCFF Parameters:**\n",
    "- FCFF = Free Cash Flow to Firm\n",
    "- EBIT = Earnings before Interest and Taxes\n",
    "- Taxes = Cash Taxes\n",
    "- D&A Expense = Depreciation and Amortization expense\n",
    "- CapEx = Capital Expenditures\n",
    "- Δ Net WC = Changes in Net Working Capital"
   ]
  },
  {
   "cell_type": "code",
   "execution_count": 37,
   "metadata": {},
   "outputs": [
    {
     "name": "stdout",
     "output_type": "stream",
     "text": [
      "Historical FCFF (last 3 years):\n",
      " [79437000000.0, 69880000000.0, 80965000000.0]\n"
     ]
    }
   ],
   "source": [
    "#get historical data\n",
    "free_cashflows_list = []\n",
    "\n",
    "for y in range(0,3):\n",
    "        #EBIT, D&A, CapEx, tax\n",
    "    ebit = stock.financials.loc['Ebit'].iloc[y]\n",
    "    tax_expense = stock.financials.loc['Income Tax Expense'].iloc[y]\n",
    "    depreciation_amortization = stock.cashflow.loc['Depreciation'].iloc[y]\n",
    "    capex = stock.cashflow.loc['Capital Expenditures'].iloc[y]\n",
    "\n",
    "        #change in net working capital\n",
    "    operating_current_assets = stock.balance_sheet.loc['Net Receivables'].iloc[y] + stock.balance_sheet.loc['Inventory'].iloc[y]\n",
    "    operating_current_liabilities = stock.balance_sheet.loc['Accounts Payable'].iloc[y]\n",
    "    net_working_capital = operating_current_assets - operating_current_liabilities\n",
    "\n",
    "    lastyear_operating_current_assets = stock.balance_sheet.loc['Net Receivables'].iloc[y+1] + stock.balance_sheet.loc['Inventory'].iloc[y+1]\n",
    "    lastyear_operating_current_liabilities = stock.balance_sheet.loc['Accounts Payable'].iloc[y+1]\n",
    "    lastyear_net_working_capital = lastyear_operating_current_assets - lastyear_operating_current_liabilities\n",
    "\n",
    "    change_in_net_working_capital = net_working_capital - lastyear_net_working_capital\n",
    "\n",
    "        #free cash flow\n",
    "    freecashflow = ebit - tax_expense + depreciation_amortization - capex - change_in_net_working_capital\n",
    "    free_cashflows_list.append(freecashflow)\n",
    "\n",
    "#present historical free cashflows of the last three years\n",
    "print('Historical FCFF (last 3 years):\\n {}'.format(free_cashflows_list))"
   ]
  },
  {
   "cell_type": "markdown",
   "metadata": {},
   "source": [
    "### Second Step: Cashflow Growth Rate Calculation and Future FCFF Prediction"
   ]
  },
  {
   "cell_type": "code",
   "execution_count": 36,
   "metadata": {},
   "outputs": [
    {
     "name": "stdout",
     "output_type": "stream",
     "text": [
      "Future FCFF (next 5 years):\n",
      " [90301044204.35031, 102650887928.74895, 116689733606.1252, 132648574248.27945, 150789994169.44153]\n"
     ]
    }
   ],
   "source": [
    "#cashflow growth rate\n",
    "histcl_cashflow_growthrates = []\n",
    "\n",
    "cashflow_growthrate_1 = free_cashflows_list[0] / free_cashflows_list[1] - 1\n",
    "cashflow_growthrate_2 = free_cashflows_list[1] / free_cashflows_list[2] - 1\n",
    "\n",
    "histcl_cashflow_growthrates.append(cashflow_growthrate_1)\n",
    "histcl_cashflow_growthrates.append(cashflow_growthrate_2)\n",
    "\n",
    "if histcl_cashflow_growthrates[0] > histcl_cashflow_growthrates[1] and histcl_cashflow_growthrates[1] > 0:\n",
    "    cashflow_growthrate = histcl_cashflow_growthrates[1]\n",
    "elif histcl_cashflow_growthrates[0] <= 0.3:\n",
    "    cashflow_growthrate = histcl_cashflow_growthrates[0]\n",
    "else:\n",
    "    cashflow_growthrate = stats.mean(histcl_cashflow_growthrates)\n",
    "    \n",
    "\n",
    "#predict future cashflows\n",
    "future_freecashflow = []\n",
    "\n",
    "for year in years:\n",
    "    cashflow = free_cashflows_list[0] * (1 + cashflow_growthrate) ** year\n",
    "    if cashflow >= 0: #prevent negative cashflows\n",
    "        future_freecashflow.append(cashflow)\n",
    "    else:\n",
    "        future_freecashflow.append(0)\n",
    "#present futere free cashflows (next 5 years)\n",
    "print('Future FCFF (next 5 years):\\n {}'.format(future_freecashflow))"
   ]
  },
  {
   "cell_type": "markdown",
   "metadata": {},
   "source": [
    "### Third Step: WACC Calculation\n",
    "Calculate the Cost of Capital (WACC), our discount rate for the future FCFF.<br>\n",
    "Discount future FCFF with cost of capital (WACC) to get the value of firm.<br>\n",
    "\n",
    "**WACC Forumula:**\n",
    "> $ WACC = (D/D+E) * (1-t)rd + (E/D+E) * (1-t)re $\n",
    "\n",
    "**WACC Parameters:**\n",
    "- WACC = Cost of Capital\n",
    "- D = Value of Dept\n",
    "- E = Value of Equity\n",
    "- D+E = Value of Firm\n",
    "- rd = Posttax Cost of Dept\n",
    "- re = Cost of Equity"
   ]
  },
  {
   "cell_type": "code",
   "execution_count": 35,
   "metadata": {},
   "outputs": [
    {
     "name": "stdout",
     "output_type": "stream",
     "text": [
      "WACC:\n",
      " 0.05605960472985951\n"
     ]
    }
   ],
   "source": [
    "##Calculate Cost of Capital\n",
    "    \n",
    "#capital structure\n",
    "Equity = stock.balance_sheet.loc['Total Stockholder Equity'].iloc[0] / stock.balance_sheet.loc['Total Assets'].iloc[0]\n",
    "Dept = stock.balance_sheet.loc['Total Liab'].iloc[0] / stock.balance_sheet.loc['Total Assets'].iloc[0]\n",
    "\n",
    "#cost of equity\n",
    "    #get market index\n",
    "if stock.info[\"country\"] == \"United States\":\n",
    "    benchmark = \"^GSPC\"\n",
    "elif stock.info[\"country\"] == \"Switzerland\":\n",
    "    benchmark = \"^SSMI\"\n",
    "elif stock.info[\"country\"] == \"Germany\":\n",
    "    benchmark = \"^GDAXI\"\n",
    "elif stock.info[\"country\"] == \"United Kingdom\":\n",
    "    benchmark = \"^FTSE\"\n",
    "elif stock.info[\"country\"] == \"France\":\n",
    "    benchmark = \"^FCHI\"\n",
    "elif stock.info[\"country\"] == \"Italy\":\n",
    "    benchmark = \"FTSEMIB.MI\"\n",
    "elif stock.info[\"country\"] == \"Spain\":\n",
    "    benchmark = \"^IBEX\"\n",
    "elif stock.info[\"country\"] == \"Japan\":\n",
    "    benchmark = \"^N225\"\n",
    "else:\n",
    "    benchmark = \"MWL=F\" #msci world\n",
    "    \n",
    "    #calculate average market return\n",
    "histcl_market_data = pdr.get_data_yahoo(benchmark)[\"Adj Close\"]\n",
    "yrly_market_return = histcl_market_data.resample('Y').ffill().pct_change()\n",
    "yrly_market_return = yrly_market_return.dropna(axis=0) #drop NaN in first row\n",
    "\n",
    "average_market_return = yrly_market_return.mean()\n",
    "\n",
    "    #calculate equity cost\n",
    "try:\n",
    "    beta = stock.info['beta']\n",
    "    cost_equity = riskfree_rate + beta * (average_market_return - riskfree_rate)\n",
    "except ValueError:\n",
    "    histcl_stock_data = pdr.get_data_yahoo(stock_input)[\"Adj Close\"]\n",
    "    yrly_stock_return = histcl_market_data.resample('Y').ffill().pct_change()\n",
    "    yrly_stock_return = yrly_stock_return.dropna(axis=0) #drop NaN in first row\n",
    "    cost_equity = yrly_stock_return.mean()\n",
    "    \n",
    "#cost of dept\n",
    "histcl_interest_expense = [stock.financials.loc['Interest Expense'].iloc[0], \n",
    "                           stock.financials.loc['Interest Expense'].iloc[1], \n",
    "                           stock.financials.loc['Interest Expense'].iloc[2]]\n",
    "avg_interest_expense = stats.mean(histcl_interest_expense)\n",
    "\n",
    "histcl_dept_balance = [stock.balance_sheet.loc[\"Long Term Debt\"].iloc[0],\n",
    "                       stock.balance_sheet.loc[\"Long Term Debt\"].iloc[1],\n",
    "                       stock.balance_sheet.loc[\"Long Term Debt\"].iloc[2]]\n",
    "avg_dept_balance = stats.mean(histcl_dept_balance)\n",
    "\n",
    "cost_dept = abs(avg_interest_expense / avg_dept_balance)\n",
    "\n",
    "#tax shield\n",
    "tax_rate = tax_expense / (ebit - stock.financials.loc['Interest Expense'].iloc[0])\n",
    "tax_shield = 1 - tax_rate\n",
    "\n",
    "#combinded\n",
    "WACC = cost_equity * Equity + cost_dept * Dept * tax_shield\n",
    "\n",
    "#present WACC\n",
    "print('WACC:\\n {}'.format(WACC))"
   ]
  },
  {
   "cell_type": "markdown",
   "metadata": {},
   "source": [
    "### Fourth Step: Discount Future FCFF\n",
    "Discount the calculated future FCFF with the Cost of Capital (WACC)<br>\n"
   ]
  },
  {
   "cell_type": "code",
   "execution_count": 34,
   "metadata": {},
   "outputs": [
    {
     "name": "stdout",
     "output_type": "stream",
     "text": [
      "Discounted Future FCFF:\n",
      " [85508248937.9108, 92043514186.43358, 99078259805.55266, 106650660319.3499, 114801807872.64798]\n"
     ]
    }
   ],
   "source": [
    "#discount cashflows\n",
    "discountfactor = []\n",
    "discounted_future_freecashflow = []\n",
    "\n",
    "for year in years:\n",
    "    discountfactor.append((1 + WACC) ** year)\n",
    "    \n",
    "for x in range(0, len(years)):\n",
    "    discounted_future_freecashflow.append(future_freecashflow[x] / discountfactor[x])\n",
    "\n",
    "#get terminal value and discount the terminal value\n",
    "terminal_value = future_freecashflow[-1] * (1 + perpetual_rate) / (WACC - perpetual_rate)\n",
    "discounted_terminal_value = terminal_value / discountfactor[-1] ** years[-1]\n",
    "\n",
    "#present the discounted future free cashflows\n",
    "discounted_future_freecashflow\n",
    "\n",
    "print('Discounted Future FCFF:\\n {}'.format(discounted_future_freecashflow))"
   ]
  },
  {
   "cell_type": "markdown",
   "metadata": {},
   "source": [
    "### Fifth Step: Instrinsic Value Calculation\n",
    "Calcualte the fair value per share.<br>"
   ]
  },
  {
   "cell_type": "code",
   "execution_count": 38,
   "metadata": {},
   "outputs": [
    {
     "name": "stdout",
     "output_type": "stream",
     "text": [
      "Fair Value per Share:\n",
      " 91.61\n"
     ]
    }
   ],
   "source": [
    "#get instrinsic value\n",
    "discounted_future_freecashflow.append(discounted_terminal_value)\n",
    "enterprise_value = sum(discounted_future_freecashflow)\n",
    "equity_value = enterprise_value + stock.balance_sheet.loc['Cash'].iloc[0] - stock.balance_sheet.loc['Long Term Debt'].iloc[0]\n",
    "\n",
    "#prevent negative equity value\n",
    "if equity_value >= 0:\n",
    "    equity_value = equity_value\n",
    "else:\n",
    "    equity_value = 0.01\n",
    "    \n",
    "#get the amount of outstanding shares\n",
    "shares_outstanding = stock.info['sharesOutstanding']\n",
    "\n",
    "#calculate the value per share\n",
    "fairvalue_per_share = round(equity_value / shares_outstanding, 2)\n",
    "fairvalue_per_share\n",
    "\n",
    "# present the fair value per share\n",
    "print('Fair Value per Share:\\n {}'.format(fairvalue_per_share))"
   ]
  },
  {
   "cell_type": "markdown",
   "metadata": {},
   "source": [
    "# 5. Current Share Price\n",
    "Get the current share price (observed) as basis for our recommendation"
   ]
  },
  {
   "cell_type": "code",
   "execution_count": 39,
   "metadata": {},
   "outputs": [
    {
     "name": "stdout",
     "output_type": "stream",
     "text": [
      "Current Share Price:\n",
      " 126.85\n"
     ]
    }
   ],
   "source": [
    "#current stock price\n",
    "current_shareprice = stock.info['previousClose']\n",
    "current_shareprice\n",
    "\n",
    "# present the current stock price\n",
    "print('Current Share Price:\\n {}'.format(current_shareprice))"
   ]
  },
  {
   "cell_type": "markdown",
   "metadata": {},
   "source": [
    "# 6. Recommendation"
   ]
  },
  {
   "cell_type": "code",
   "execution_count": 21,
   "metadata": {},
   "outputs": [],
   "source": [
    "#Recommendation\n",
    "if fairvalue_per_share > current_shareprice * 1.09:\n",
    "    advice = \"BUY\"\n",
    "elif fairvalue_per_share > current_shareprice:\n",
    "    advice = \"HOLD\"\n",
    "elif fairvalue_per_share > current_shareprice * 0.91:\n",
    "    advice = \"HOLD\"\n",
    "elif fairvalue_per_share < current_shareprice:\n",
    "    advice = \"SELL\"\n",
    "else:\n",
    "    advice = \"HOLD\""
   ]
  },
  {
   "cell_type": "code",
   "execution_count": 22,
   "metadata": {},
   "outputs": [],
   "source": [
    "#Conclusion\n",
    "if fairvalue_per_share > current_shareprice * 1.17:\n",
    "    concl = \"highly undervalued\"\n",
    "elif fairvalue_per_share > current_shareprice * 1.05:\n",
    "    concl = \"slightly undervalued\"\n",
    "elif fairvalue_per_share > current_shareprice:\n",
    "    concl = \"efficient pricing\"\n",
    "elif fairvalue_per_share > current_shareprice * 0.95:\n",
    "    concl = \"efficient pricing\"\n",
    "elif fairvalue_per_share > current_shareprice * 0.86:\n",
    "    concl = \"slightly overvalued\"\n",
    "elif fairvalue_per_share < current_shareprice:\n",
    "    concl = \"highly overvalued\"\n",
    "else:\n",
    "    concl = \"efficient pricing\""
   ]
  },
  {
   "cell_type": "markdown",
   "metadata": {},
   "source": [
    "# 7. \"Stock Investing Advisor\" Result"
   ]
  },
  {
   "cell_type": "code",
   "execution_count": 23,
   "metadata": {},
   "outputs": [
    {
     "name": "stdout",
     "output_type": "stream",
     "text": [
      "\n",
      "---------------------------------------------------\n",
      "\n",
      "Conclusion: highly undervalued\n",
      "Recommendation: BUY\n",
      "\n",
      "  -> Fair value of Apple Inc.: 157.17 USD\n",
      "\n",
      "  -> Current Share Price: 126.85 USD\n",
      "\n",
      "---------------------------------------------------\n"
     ]
    }
   ],
   "source": [
    "#final output\n",
    "print(\"\")\n",
    "print(\"---------------------------------------------------\\n\")\n",
    "print(\"Conclusion: \" + concl)\n",
    "print(\"Recommendation: \" + advice)\n",
    "print(\"\")\n",
    "print(\"  -> Fair value of \" + name + \": \" + str(fairvalue_per_share) + \" \" + str(stock.info[\"currency\"]))\n",
    "print(\"\")\n",
    "print(\"  -> Current Share Price: \" + str(current_shareprice) + \" \" + str(stock.info[\"currency\"]))\n",
    "print(\"\")\n",
    "print(\"---------------------------------------------------\")"
   ]
  }
 ],
 "metadata": {
  "kernelspec": {
   "display_name": "Python 3",
   "language": "python",
   "name": "python3"
  },
  "language_info": {
   "codemirror_mode": {
    "name": "ipython",
    "version": 3
   },
   "file_extension": ".py",
   "mimetype": "text/x-python",
   "name": "python",
   "nbconvert_exporter": "python",
   "pygments_lexer": "ipython3",
   "version": "3.8.3"
  }
 },
 "nbformat": 4,
 "nbformat_minor": 4
}
